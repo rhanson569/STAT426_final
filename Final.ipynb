{
 "cells": [
  {
   "cell_type": "code",
   "execution_count": 3,
   "metadata": {},
   "outputs": [],
   "source": [
    "import pandas as pd\n",
    "\n",
    "URL = 'https://www.basketball-reference.com/awards/all_league.html'\n",
    "all_nba = pd.read_html(URL)[0]"
   ]
  },
  {
   "cell_type": "code",
   "execution_count": 4,
   "metadata": {},
   "outputs": [],
   "source": [
    "#Drop null rows, filters between the years\n",
    "all_nba = all_nba.dropna()\n",
    "#Create a numeric variable for the closing year of the NBA season\n",
    "all_nba['Season'] = all_nba['Season'].apply(lambda x: pd.to_numeric((x[0]+x[1]+x[-2]+x[-1])))\n",
    "\n",
    "#Add a condition to fix the 1999-00 season\n",
    "all_nba['Season'] = all_nba['Season'].replace([1900],2000)"
   ]
  },
  {
   "cell_type": "code",
   "execution_count": 5,
   "metadata": {},
   "outputs": [],
   "source": [
    "#Filter data down to the year after the NBA-ABA merger and remove position designation\n",
    "all_nba = all_nba[all_nba['Season']>=1977]\n",
    "all_nba['Unnamed: 3'] = all_nba['Unnamed: 3'].apply(lambda x: x[0:-2])\n",
    "all_nba['Unnamed: 4'] = all_nba['Unnamed: 4'].apply(lambda x: x[0:-2])\n",
    "all_nba['Unnamed: 5'] = all_nba['Unnamed: 5'].apply(lambda x: x[0:-2])\n",
    "all_nba['Unnamed: 6'] = all_nba['Unnamed: 6'].apply(lambda x: x[0:-2])\n",
    "all_nba['Unnamed: 7'] = all_nba['Unnamed: 7'].apply(lambda x: x[0:-2])"
   ]
  },
  {
   "cell_type": "code",
   "execution_count": 6,
   "metadata": {},
   "outputs": [],
   "source": [
    "#Restructure table of All-NBA players\n",
    "all_nba_final = pd.melt(all_nba, id_vars='Season', value_vars = ['Unnamed: 3', 'Unnamed: 4','Unnamed: 5',\n",
    "                                                 'Unnamed: 6','Unnamed: 7'],\n",
    "       value_name='Player', var_name='Position')"
   ]
  },
  {
   "cell_type": "code",
   "execution_count": 7,
   "metadata": {},
   "outputs": [],
   "source": [
    "all_nba_final['Is_All_NBA'] = 1\n",
    "all_nba_final = all_nba_final.drop(columns='Position')"
   ]
  },
  {
   "cell_type": "code",
   "execution_count": 8,
   "metadata": {},
   "outputs": [
    {
     "data": {
      "text/html": [
       "<div>\n",
       "<style scoped>\n",
       "    .dataframe tbody tr th:only-of-type {\n",
       "        vertical-align: middle;\n",
       "    }\n",
       "\n",
       "    .dataframe tbody tr th {\n",
       "        vertical-align: top;\n",
       "    }\n",
       "\n",
       "    .dataframe thead th {\n",
       "        text-align: right;\n",
       "    }\n",
       "</style>\n",
       "<table border=\"1\" class=\"dataframe\">\n",
       "  <thead>\n",
       "    <tr style=\"text-align: right;\">\n",
       "      <th></th>\n",
       "      <th>Season</th>\n",
       "      <th>Player</th>\n",
       "      <th>Is_All_NBA</th>\n",
       "    </tr>\n",
       "  </thead>\n",
       "  <tbody>\n",
       "    <tr>\n",
       "      <td>0</td>\n",
       "      <td>2020</td>\n",
       "      <td>Anthony Davis</td>\n",
       "      <td>1</td>\n",
       "    </tr>\n",
       "    <tr>\n",
       "      <td>1</td>\n",
       "      <td>2020</td>\n",
       "      <td>Nikola Jokić</td>\n",
       "      <td>1</td>\n",
       "    </tr>\n",
       "    <tr>\n",
       "      <td>2</td>\n",
       "      <td>2020</td>\n",
       "      <td>Rudy Gobert</td>\n",
       "      <td>1</td>\n",
       "    </tr>\n",
       "    <tr>\n",
       "      <td>3</td>\n",
       "      <td>2019</td>\n",
       "      <td>Nikola Jokić</td>\n",
       "      <td>1</td>\n",
       "    </tr>\n",
       "    <tr>\n",
       "      <td>4</td>\n",
       "      <td>2019</td>\n",
       "      <td>Joel Embiid</td>\n",
       "      <td>1</td>\n",
       "    </tr>\n",
       "    <tr>\n",
       "      <td>...</td>\n",
       "      <td>...</td>\n",
       "      <td>...</td>\n",
       "      <td>...</td>\n",
       "    </tr>\n",
       "    <tr>\n",
       "      <td>595</td>\n",
       "      <td>1979</td>\n",
       "      <td>World B. Free</td>\n",
       "      <td>1</td>\n",
       "    </tr>\n",
       "    <tr>\n",
       "      <td>596</td>\n",
       "      <td>1978</td>\n",
       "      <td>David Thompson</td>\n",
       "      <td>1</td>\n",
       "    </tr>\n",
       "    <tr>\n",
       "      <td>597</td>\n",
       "      <td>1978</td>\n",
       "      <td>Paul Westphal</td>\n",
       "      <td>1</td>\n",
       "    </tr>\n",
       "    <tr>\n",
       "      <td>598</td>\n",
       "      <td>1977</td>\n",
       "      <td>Paul Westphal</td>\n",
       "      <td>1</td>\n",
       "    </tr>\n",
       "    <tr>\n",
       "      <td>599</td>\n",
       "      <td>1977</td>\n",
       "      <td>Jo Jo White</td>\n",
       "      <td>1</td>\n",
       "    </tr>\n",
       "  </tbody>\n",
       "</table>\n",
       "<p>600 rows × 3 columns</p>\n",
       "</div>"
      ],
      "text/plain": [
       "     Season          Player  Is_All_NBA\n",
       "0      2020   Anthony Davis           1\n",
       "1      2020    Nikola Jokić           1\n",
       "2      2020     Rudy Gobert           1\n",
       "3      2019    Nikola Jokić           1\n",
       "4      2019     Joel Embiid           1\n",
       "..      ...             ...         ...\n",
       "595    1979   World B. Free           1\n",
       "596    1978  David Thompson           1\n",
       "597    1978   Paul Westphal           1\n",
       "598    1977   Paul Westphal           1\n",
       "599    1977     Jo Jo White           1\n",
       "\n",
       "[600 rows x 3 columns]"
      ]
     },
     "execution_count": 8,
     "metadata": {},
     "output_type": "execute_result"
    }
   ],
   "source": [
    "all_nba_final"
   ]
  },
  {
   "cell_type": "code",
   "execution_count": 9,
   "metadata": {},
   "outputs": [],
   "source": [
    "URL2 = 'https://www.basketball-reference.com/leagues/NBA_2020_per_game.html'\n",
    "players = pd.read_html(URL2)[0]"
   ]
  },
  {
   "cell_type": "code",
   "execution_count": 10,
   "metadata": {},
   "outputs": [
    {
     "name": "stdout",
     "output_type": "stream",
     "text": [
      "1980\n",
      "1981\n",
      "1982\n",
      "1983\n",
      "1984\n",
      "1985\n",
      "1986\n",
      "1987\n",
      "1988\n",
      "1989\n",
      "1990\n",
      "1991\n",
      "1992\n",
      "1993\n",
      "1994\n",
      "1995\n",
      "1996\n",
      "1997\n",
      "1998\n",
      "1999\n",
      "2000\n",
      "2001\n",
      "2002\n",
      "2003\n",
      "2004\n",
      "2005\n",
      "2006\n",
      "2007\n",
      "2008\n",
      "2009\n",
      "2010\n",
      "2011\n",
      "2012\n",
      "2013\n",
      "2014\n",
      "2015\n",
      "2016\n",
      "2017\n",
      "2018\n",
      "2019\n",
      "2020\n"
     ]
    }
   ],
   "source": [
    "#Use a for loop to read in and clean stats for every year and combine into one table\n",
    "for i in range(1980,2021):\n",
    "    URL = 'https://www.basketball-reference.com/leagues/NBA_'+ str(i) + '_per_game.html'\n",
    "    players = pd.read_html(URL)[0]\n",
    "    players=players[players.Rk != 'Rk']\n",
    "    players=players[players.Tm != 'TOT']\n",
    "    players['Season'] = i\n",
    "    players['G'] = players['G'].apply(lambda x: float(x))\n",
    "    players = players[players.G >60]\n",
    "    if (i == 1980):\n",
    "        all_player_seasons = players\n",
    "    else:\n",
    "        all_player_seasons = pd.concat([all_player_seasons,players],axis=0)\n",
    "    \n",
    "    URL_advanced = 'https://www.basketball-reference.com/leagues/NBA_'+ str(i) + '_advanced.html'\n",
    "    players_advanced = pd.read_html(URL_advanced)[0]\n",
    "    players_advanced=players_advanced[players_advanced.Rk != 'Rk']\n",
    "    players_advanced=players_advanced[players_advanced.Tm != 'TOT']\n",
    "    players_advanced['Season'] = i\n",
    "    players_advanced['G'] = players_advanced['G'].apply(lambda x: float(x))\n",
    "    players_advanced = players_advanced[players_advanced.G>60]\n",
    "    if (i == 1980):\n",
    "        all_player_seasons_advanced = players_advanced\n",
    "    else:\n",
    "        all_player_seasons_advanced = pd.concat([all_player_seasons_advanced,players_advanced],axis=0)\n",
    "    \n",
    "    print(i)\n"
   ]
  },
  {
   "cell_type": "code",
   "execution_count": 77,
   "metadata": {},
   "outputs": [],
   "source": [
    "#Select columns for advanced stats\n",
    "all_player_seasons_advanced = all_player_seasons_advanced[['Player','Season','Age','PER','USG%','TS%','BPM','WS/48','VORP']]"
   ]
  },
  {
   "cell_type": "code",
   "execution_count": 78,
   "metadata": {},
   "outputs": [],
   "source": [
    "#Select columns for traditional stats\n",
    "all_player_seasons = all_player_seasons[['Player','Season','Age','FGA','eFG%','TRB','AST','STL','BLK','PTS']]"
   ]
  },
  {
   "cell_type": "code",
   "execution_count": 79,
   "metadata": {},
   "outputs": [],
   "source": [
    "#Clean data, remove * from name that represented All-Star\n",
    "all_player_seasons['Player'] = all_player_seasons['Player'].apply(lambda x: x.replace('*',''))\n",
    "all_player_seasons_advanced['Player'] = all_player_seasons_advanced['Player'].apply(lambda x: x.replace('*',''))\n",
    "all_player_seasons = all_player_seasons.reset_index()\n",
    "all_player_seasons_advanced = all_player_seasons_advanced.reset_index()"
   ]
  },
  {
   "cell_type": "code",
   "execution_count": 80,
   "metadata": {},
   "outputs": [],
   "source": [
    "#Merge the two seperate datasets with the All-NBA table and change the NA's to 0 to represent not making an All-NBA team\n",
    "all_player_seasons_merged = all_player_seasons.merge(all_nba_final, on=['Player','Season'], how='left')\n",
    "all_player_seasons_merged['Is_All_NBA'] = all_player_seasons_merged['Is_All_NBA'].fillna(value=0)\n",
    "\n",
    "cols = all_player_seasons_merged.columns.drop('Player')\n",
    "all_player_seasons_merged[cols] = all_player_seasons_merged[cols].apply(pd.to_numeric, errors='coerce')"
   ]
  },
  {
   "cell_type": "code",
   "execution_count": 81,
   "metadata": {},
   "outputs": [],
   "source": [
    "all_player_seasons_advanced_merged = all_player_seasons_advanced.merge(all_nba_final, on=['Player','Season'], how='left')\n",
    "all_player_seasons_advanced_merged['Is_All_NBA'] = all_player_seasons_advanced_merged['Is_All_NBA'].fillna(value=0)\n",
    "\n",
    "cols = all_player_seasons_advanced_merged.columns.drop('Player')\n",
    "all_player_seasons_advanced_merged[cols] = all_player_seasons_advanced_merged[cols].apply(pd.to_numeric, errors='coerce')"
   ]
  },
  {
   "cell_type": "code",
   "execution_count": 82,
   "metadata": {},
   "outputs": [],
   "source": [
    "#Merge traditional and advanced statistics into one dataset\n",
    "total = all_player_seasons_merged.merge(all_player_seasons_advanced_merged, on=['Player','Season','Age', 'Is_All_NBA'], \n",
    "                                        how='inner')\n",
    "total = total.drop(columns=['index_x','index_y'])\n",
    "data = total.pop('Is_All_NBA')\n",
    "total['Is_All_NBA'] = data\n"
   ]
  },
  {
   "cell_type": "code",
   "execution_count": 83,
   "metadata": {},
   "outputs": [],
   "source": [
    "from sklearn.model_selection import train_test_split\n",
    "cols = total.columns.drop(['Player','Season','Is_All_NBA'])\n",
    "X = total[cols]\n",
    "Y = total['Is_All_NBA']\n",
    "X_train, X_test, Y_train, Y_test = train_test_split(X, Y, test_size = .2, random_state=824)"
   ]
  },
  {
   "cell_type": "code",
   "execution_count": 84,
   "metadata": {},
   "outputs": [],
   "source": [
    "from sklearn import preprocessing\n",
    "\n",
    "min_max_scaler = preprocessing.MinMaxScaler()\n",
    "x_train_scaled = min_max_scaler.fit_transform(X_train)\n",
    "X_train_TOT = pd.DataFrame(x_train_scaled)\n",
    "\n",
    "\n",
    "x_test_scaled = min_max_scaler.fit_transform(X_test)\n",
    "X_test_TOT = pd.DataFrame(x_test_scaled)"
   ]
  },
  {
   "cell_type": "code",
   "execution_count": 85,
   "metadata": {},
   "outputs": [
    {
     "name": "stdout",
     "output_type": "stream",
     "text": [
      "[[1568    0]\n",
      " [ 103    0]]\n",
      "Train accuracy 0.9378928464531577\n",
      "Test accuracy 0.93836026331538\n",
      "F1 0.0\n",
      "AUC 0.5\n"
     ]
    },
    {
     "name": "stderr",
     "output_type": "stream",
     "text": [
      "C:\\Users\\rhans\\Anaconda3\\lib\\site-packages\\sklearn\\metrics\\classification.py:1437: UndefinedMetricWarning: F-score is ill-defined and being set to 0.0 due to no predicted samples.\n",
      "  'precision', 'predicted', average, warn_for)\n"
     ]
    }
   ],
   "source": [
    "from sklearn.metrics import confusion_matrix, f1_score, precision_score, recall_score, roc_auc_score, roc_curve, accuracy_score\n",
    "from sklearn.naive_bayes import MultinomialNB\n",
    "#Multinomial Naive Bayes\n",
    "nb = MultinomialNB()\n",
    "nb.fit(X_train_TOT, Y_train)\n",
    "yhat = nb.predict(X_test_TOT)\n",
    "yhat_train = nb.predict(X_train_TOT)\n",
    "print(confusion_matrix(Y_test, yhat))\n",
    "\n",
    "print(\"Train accuracy\", accuracy_score(Y_train, yhat_train))\n",
    "print(\"Test accuracy\", accuracy_score(Y_test, yhat))\n",
    "print(\"F1\", f1_score(Y_test, yhat))\n",
    "print(\"AUC\", roc_auc_score(Y_test, yhat))"
   ]
  },
  {
   "cell_type": "code",
   "execution_count": 86,
   "metadata": {},
   "outputs": [
    {
     "name": "stdout",
     "output_type": "stream",
     "text": [
      "[[1531   37]\n",
      " [  23   80]]\n",
      "Train accuracy 1.0\n",
      "Test accuracy 0.9640933572710951\n",
      "F1 0.7272727272727274\n",
      "AUC 0.8765510451753518\n"
     ]
    }
   ],
   "source": [
    "from sklearn.tree import DecisionTreeClassifier\n",
    "#Decision Tree\n",
    "dt = DecisionTreeClassifier()\n",
    "dt.fit(X_train, Y_train)\n",
    "yhat2 = dt.predict(X_test)\n",
    "yhat_train2 = dt.predict(X_train)\n",
    "print(confusion_matrix(Y_test, yhat2))\n",
    "\n",
    "print(\"Train accuracy\", accuracy_score(Y_train, yhat_train2))\n",
    "print(\"Test accuracy\", accuracy_score(Y_test, yhat2))\n",
    "print(\"F1\", f1_score(Y_test, yhat2))\n",
    "print(\"AUC\", roc_auc_score(Y_test, yhat2))"
   ]
  },
  {
   "cell_type": "code",
   "execution_count": 87,
   "metadata": {},
   "outputs": [
    {
     "name": "stdout",
     "output_type": "stream",
     "text": [
      "[[1548   20]\n",
      " [  31   72]]\n",
      "Train accuracy 0.9962586052080216\n",
      "Test accuracy 0.9694793536804309\n",
      "F1 0.7384615384615385\n",
      "AUC 0.843137012086388\n"
     ]
    },
    {
     "name": "stderr",
     "output_type": "stream",
     "text": [
      "C:\\Users\\rhans\\Anaconda3\\lib\\site-packages\\sklearn\\ensemble\\forest.py:245: FutureWarning: The default value of n_estimators will change from 10 in version 0.20 to 100 in 0.22.\n",
      "  \"10 in version 0.20 to 100 in 0.22.\", FutureWarning)\n"
     ]
    }
   ],
   "source": [
    "from sklearn.ensemble import RandomForestClassifier\n",
    "#Random Forest\n",
    "rf = RandomForestClassifier()\n",
    "rf.fit(X_train, Y_train)\n",
    "yhat3 = rf.predict(X_test)\n",
    "yhat_train3 = rf.predict(X_train)\n",
    "\n",
    "print(confusion_matrix(Y_test, yhat3))\n",
    "print(\"Train accuracy\", accuracy_score(Y_train, yhat_train3))\n",
    "print(\"Test accuracy\", accuracy_score(Y_test, yhat3))\n",
    "print(\"F1\", f1_score(Y_test, yhat3))\n",
    "print(\"AUC\", roc_auc_score(Y_test, yhat3))"
   ]
  },
  {
   "cell_type": "code",
   "execution_count": 88,
   "metadata": {},
   "outputs": [],
   "source": [
    "#Random Forest Modeling using only the advanced analytics\n",
    "cols = all_player_seasons_advanced_merged.columns.drop(['Player','Season','Is_All_NBA'])\n",
    "X = all_player_seasons_advanced_merged[cols]\n",
    "Y = all_player_seasons_advanced_merged['Is_All_NBA']\n",
    "X_train, X_test, Y_train, Y_test = train_test_split(X, Y, test_size = .2, random_state=824)"
   ]
  },
  {
   "cell_type": "code",
   "execution_count": 89,
   "metadata": {},
   "outputs": [],
   "source": [
    "min_max_scaler = preprocessing.MinMaxScaler()\n",
    "x_train_scaled = min_max_scaler.fit_transform(X_train)\n",
    "X_train = pd.DataFrame(x_train_scaled)\n",
    "\n",
    "x_test_scaled = min_max_scaler.fit_transform(X_test)\n",
    "X_test = pd.DataFrame(x_test_scaled)"
   ]
  },
  {
   "cell_type": "code",
   "execution_count": 90,
   "metadata": {},
   "outputs": [
    {
     "name": "stdout",
     "output_type": "stream",
     "text": [
      "[[1550   18]\n",
      " [  36   67]]\n",
      "Train accuracy 0.9976055073331338\n",
      "Test accuracy 0.9676840215439856\n",
      "F1 0.7127659574468085\n",
      "AUC 0.8195029225282346\n"
     ]
    },
    {
     "name": "stderr",
     "output_type": "stream",
     "text": [
      "C:\\Users\\rhans\\Anaconda3\\lib\\site-packages\\sklearn\\ensemble\\forest.py:245: FutureWarning: The default value of n_estimators will change from 10 in version 0.20 to 100 in 0.22.\n",
      "  \"10 in version 0.20 to 100 in 0.22.\", FutureWarning)\n"
     ]
    }
   ],
   "source": [
    "#Random Forest\n",
    "rf = RandomForestClassifier()\n",
    "rf.fit(X_train, Y_train)\n",
    "yhat3 = rf.predict(X_test)\n",
    "yhat_train3 = rf.predict(X_train)\n",
    "\n",
    "print(confusion_matrix(Y_test, yhat3))\n",
    "print(\"Train accuracy\", accuracy_score(Y_train, yhat_train3))\n",
    "print(\"Test accuracy\", accuracy_score(Y_test, yhat3))\n",
    "print(\"F1\", f1_score(Y_test, yhat3))\n",
    "print(\"AUC\", roc_auc_score(Y_test, yhat3))"
   ]
  },
  {
   "cell_type": "code",
   "execution_count": 91,
   "metadata": {},
   "outputs": [],
   "source": [
    "#Random Forest modeling using only tradiitonal statistics\n",
    "cols = all_player_seasons_merged.columns.drop(['Player','Season','Is_All_NBA'])\n",
    "X = all_player_seasons_merged[cols]\n",
    "Y = all_player_seasons_merged['Is_All_NBA']\n",
    "X_train, X_test, Y_train, Y_test = train_test_split(X, Y, test_size = .2, random_state=824)"
   ]
  },
  {
   "cell_type": "code",
   "execution_count": 92,
   "metadata": {},
   "outputs": [],
   "source": [
    "min_max_scaler = preprocessing.MinMaxScaler()\n",
    "x_train_scaled = min_max_scaler.fit_transform(X_train)\n",
    "X_train = pd.DataFrame(x_train_scaled)\n",
    "\n",
    "x_test_scaled = min_max_scaler.fit_transform(X_test)\n",
    "X_test = pd.DataFrame(x_test_scaled)"
   ]
  },
  {
   "cell_type": "code",
   "execution_count": 93,
   "metadata": {},
   "outputs": [
    {
     "name": "stdout",
     "output_type": "stream",
     "text": [
      "[[1528   40]\n",
      " [  30   73]]\n",
      "Train accuracy 0.9959592936246633\n",
      "Test accuracy 0.9581089168162776\n",
      "F1 0.6759259259259259\n",
      "AUC 0.8416138299980187\n"
     ]
    },
    {
     "name": "stderr",
     "output_type": "stream",
     "text": [
      "C:\\Users\\rhans\\Anaconda3\\lib\\site-packages\\sklearn\\ensemble\\forest.py:245: FutureWarning: The default value of n_estimators will change from 10 in version 0.20 to 100 in 0.22.\n",
      "  \"10 in version 0.20 to 100 in 0.22.\", FutureWarning)\n"
     ]
    }
   ],
   "source": [
    "#Random Forest\n",
    "rf = RandomForestClassifier()\n",
    "rf.fit(X_train, Y_train)\n",
    "yhat3 = rf.predict(X_test)\n",
    "yhat_train3 = rf.predict(X_train)\n",
    "\n",
    "print(confusion_matrix(Y_test, yhat3))\n",
    "print(\"Train accuracy\", accuracy_score(Y_train, yhat_train3))\n",
    "print(\"Test accuracy\", accuracy_score(Y_test, yhat3))\n",
    "print(\"F1\", f1_score(Y_test, yhat3))\n",
    "print(\"AUC\", roc_auc_score(Y_test, yhat3))"
   ]
  }
 ],
 "metadata": {
  "kernelspec": {
   "display_name": "Python 3",
   "language": "python",
   "name": "python3"
  },
  "language_info": {
   "codemirror_mode": {
    "name": "ipython",
    "version": 3
   },
   "file_extension": ".py",
   "mimetype": "text/x-python",
   "name": "python",
   "nbconvert_exporter": "python",
   "pygments_lexer": "ipython3",
   "version": "3.7.4"
  }
 },
 "nbformat": 4,
 "nbformat_minor": 2
}
